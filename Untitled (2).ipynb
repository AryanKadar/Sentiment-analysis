{
 "cells": [
  {
   "cell_type": "code",
   "execution_count": 1,
   "id": "997efce1",
   "metadata": {},
   "outputs": [],
   "source": [
    "import pandas as pd\n",
    "import matplotlib.pyplot as mp\n",
    "from sklearn.model_selection import GridSearchCV as GSCV,train_test_split as TTS\n",
    "from sklearn.compose import ColumnTransformer as CT\n",
    "from sklearn import set_config\n",
    "from sklearn.metrics import accuracy_score as AS\n",
    "import seaborn as sn\n",
    "from sklearn.pipeline import Pipeline as PP\n",
    "import plotly.express as px\n",
    "import numpy as np\n",
    "from sklearn.feature_extraction.text import CountVectorizer as CVE\n",
    "from sklearn.ensemble import StackingClassifier as SC,VotingClassifier as VC,BaggingClassifier as BC\n",
    "from nltk.stem import WordNetLemmatizer as WNL\n",
    "from nltk import word_tokenize\n",
    "import nltk\n",
    "from nltk.corpus import wordnet \n",
    "import string\n",
    "import gradio as gr"
   ]
  },
  {
   "cell_type": "code",
   "execution_count": 2,
   "id": "107f1355",
   "metadata": {},
   "outputs": [],
   "source": [
    "from sklearn.naive_bayes import BernoulliNB as BNB,MultinomialNB as MNB\n",
    "from sklearn.ensemble import RandomForestClassifier as RFC"
   ]
  },
  {
   "cell_type": "code",
   "execution_count": 3,
   "id": "1e395103",
   "metadata": {},
   "outputs": [],
   "source": [
    "#t=pd.read_csv(\"imdb_labelled.txt\",delimiter=\"\\t\",header=None,names=[\"Reviews\",\"Sentiments\"])\n",
    "#t"
   ]
  },
  {
   "cell_type": "code",
   "execution_count": 4,
   "id": "dcf59b5e",
   "metadata": {},
   "outputs": [
    {
     "data": {
      "text/html": [
       "<div>\n",
       "<style scoped>\n",
       "    .dataframe tbody tr th:only-of-type {\n",
       "        vertical-align: middle;\n",
       "    }\n",
       "\n",
       "    .dataframe tbody tr th {\n",
       "        vertical-align: top;\n",
       "    }\n",
       "\n",
       "    .dataframe thead th {\n",
       "        text-align: right;\n",
       "    }\n",
       "</style>\n",
       "<table border=\"1\" class=\"dataframe\">\n",
       "  <thead>\n",
       "    <tr style=\"text-align: right;\">\n",
       "      <th></th>\n",
       "      <th>Reviews</th>\n",
       "      <th>Sentiments</th>\n",
       "    </tr>\n",
       "  </thead>\n",
       "  <tbody>\n",
       "    <tr>\n",
       "      <th>0</th>\n",
       "      <td>review</td>\n",
       "      <td>sentiment</td>\n",
       "    </tr>\n",
       "    <tr>\n",
       "      <th>1</th>\n",
       "      <td>One of the other reviewers has mentioned that ...</td>\n",
       "      <td>positive</td>\n",
       "    </tr>\n",
       "    <tr>\n",
       "      <th>2</th>\n",
       "      <td>A wonderful little production. &lt;br /&gt;&lt;br /&gt;The...</td>\n",
       "      <td>positive</td>\n",
       "    </tr>\n",
       "    <tr>\n",
       "      <th>3</th>\n",
       "      <td>I thought this was a wonderful way to spend ti...</td>\n",
       "      <td>positive</td>\n",
       "    </tr>\n",
       "    <tr>\n",
       "      <th>4</th>\n",
       "      <td>Basically there's a family where a little boy ...</td>\n",
       "      <td>negative</td>\n",
       "    </tr>\n",
       "    <tr>\n",
       "      <th>...</th>\n",
       "      <td>...</td>\n",
       "      <td>...</td>\n",
       "    </tr>\n",
       "    <tr>\n",
       "      <th>49996</th>\n",
       "      <td>I thought this movie did a down right good job...</td>\n",
       "      <td>positive</td>\n",
       "    </tr>\n",
       "    <tr>\n",
       "      <th>49997</th>\n",
       "      <td>Bad plot, bad dialogue, bad acting, idiotic di...</td>\n",
       "      <td>negative</td>\n",
       "    </tr>\n",
       "    <tr>\n",
       "      <th>49998</th>\n",
       "      <td>I am a Catholic taught in parochial elementary...</td>\n",
       "      <td>negative</td>\n",
       "    </tr>\n",
       "    <tr>\n",
       "      <th>49999</th>\n",
       "      <td>I'm going to have to disagree with the previou...</td>\n",
       "      <td>negative</td>\n",
       "    </tr>\n",
       "    <tr>\n",
       "      <th>50000</th>\n",
       "      <td>No one expects the Star Trek movies to be high...</td>\n",
       "      <td>negative</td>\n",
       "    </tr>\n",
       "  </tbody>\n",
       "</table>\n",
       "<p>50001 rows × 2 columns</p>\n",
       "</div>"
      ],
      "text/plain": [
       "                                                 Reviews Sentiments\n",
       "0                                                 review  sentiment\n",
       "1      One of the other reviewers has mentioned that ...   positive\n",
       "2      A wonderful little production. <br /><br />The...   positive\n",
       "3      I thought this was a wonderful way to spend ti...   positive\n",
       "4      Basically there's a family where a little boy ...   negative\n",
       "...                                                  ...        ...\n",
       "49996  I thought this movie did a down right good job...   positive\n",
       "49997  Bad plot, bad dialogue, bad acting, idiotic di...   negative\n",
       "49998  I am a Catholic taught in parochial elementary...   negative\n",
       "49999  I'm going to have to disagree with the previou...   negative\n",
       "50000  No one expects the Star Trek movies to be high...   negative\n",
       "\n",
       "[50001 rows x 2 columns]"
      ]
     },
     "execution_count": 4,
     "metadata": {},
     "output_type": "execute_result"
    }
   ],
   "source": [
    "t=pd.read_csv(\"IMDB.csv\",names=[\"Reviews\",\"Sentiments\"])\n",
    "t"
   ]
  },
  {
   "cell_type": "code",
   "execution_count": 5,
   "id": "c3ad897a",
   "metadata": {},
   "outputs": [
    {
     "data": {
      "text/html": [
       "<div>\n",
       "<style scoped>\n",
       "    .dataframe tbody tr th:only-of-type {\n",
       "        vertical-align: middle;\n",
       "    }\n",
       "\n",
       "    .dataframe tbody tr th {\n",
       "        vertical-align: top;\n",
       "    }\n",
       "\n",
       "    .dataframe thead th {\n",
       "        text-align: right;\n",
       "    }\n",
       "</style>\n",
       "<table border=\"1\" class=\"dataframe\">\n",
       "  <thead>\n",
       "    <tr style=\"text-align: right;\">\n",
       "      <th></th>\n",
       "      <th>Reviews</th>\n",
       "      <th>Sentiments</th>\n",
       "    </tr>\n",
       "  </thead>\n",
       "  <tbody>\n",
       "    <tr>\n",
       "      <th>47992</th>\n",
       "      <td>This is the Australian TV series. It is a clas...</td>\n",
       "      <td>positive</td>\n",
       "    </tr>\n",
       "    <tr>\n",
       "      <th>35174</th>\n",
       "      <td>SO good, the acting, cutting, directing in the...</td>\n",
       "      <td>positive</td>\n",
       "    </tr>\n",
       "    <tr>\n",
       "      <th>33327</th>\n",
       "      <td>(BIG SPOILERS) I've seen one other Takashi Mii...</td>\n",
       "      <td>negative</td>\n",
       "    </tr>\n",
       "    <tr>\n",
       "      <th>43270</th>\n",
       "      <td>Because of all the negative reviews of this fi...</td>\n",
       "      <td>positive</td>\n",
       "    </tr>\n",
       "    <tr>\n",
       "      <th>48592</th>\n",
       "      <td>Too bad Chuck Norris has gone to TV. He made s...</td>\n",
       "      <td>negative</td>\n",
       "    </tr>\n",
       "    <tr>\n",
       "      <th>...</th>\n",
       "      <td>...</td>\n",
       "      <td>...</td>\n",
       "    </tr>\n",
       "    <tr>\n",
       "      <th>5553</th>\n",
       "      <td>This could be looked at in many different ways...</td>\n",
       "      <td>negative</td>\n",
       "    </tr>\n",
       "    <tr>\n",
       "      <th>2046</th>\n",
       "      <td>then the second half of this movie is hard to ...</td>\n",
       "      <td>negative</td>\n",
       "    </tr>\n",
       "    <tr>\n",
       "      <th>21927</th>\n",
       "      <td>Cheesy 80's horror co-starring genre favs Ken ...</td>\n",
       "      <td>negative</td>\n",
       "    </tr>\n",
       "    <tr>\n",
       "      <th>3494</th>\n",
       "      <td>This gets a two because I liked it as a kid, b...</td>\n",
       "      <td>negative</td>\n",
       "    </tr>\n",
       "    <tr>\n",
       "      <th>3615</th>\n",
       "      <td>I missed it at the cinema and have rented it o...</td>\n",
       "      <td>positive</td>\n",
       "    </tr>\n",
       "  </tbody>\n",
       "</table>\n",
       "<p>5000 rows × 2 columns</p>\n",
       "</div>"
      ],
      "text/plain": [
       "                                                 Reviews Sentiments\n",
       "47992  This is the Australian TV series. It is a clas...   positive\n",
       "35174  SO good, the acting, cutting, directing in the...   positive\n",
       "33327  (BIG SPOILERS) I've seen one other Takashi Mii...   negative\n",
       "43270  Because of all the negative reviews of this fi...   positive\n",
       "48592  Too bad Chuck Norris has gone to TV. He made s...   negative\n",
       "...                                                  ...        ...\n",
       "5553   This could be looked at in many different ways...   negative\n",
       "2046   then the second half of this movie is hard to ...   negative\n",
       "21927  Cheesy 80's horror co-starring genre favs Ken ...   negative\n",
       "3494   This gets a two because I liked it as a kid, b...   negative\n",
       "3615   I missed it at the cinema and have rented it o...   positive\n",
       "\n",
       "[5000 rows x 2 columns]"
      ]
     },
     "execution_count": 5,
     "metadata": {},
     "output_type": "execute_result"
    }
   ],
   "source": [
    "t=t.sample(5000)\n",
    "t"
   ]
  },
  {
   "cell_type": "code",
   "execution_count": 6,
   "id": "9f8ea4e4",
   "metadata": {},
   "outputs": [],
   "source": [
    "def get_wordnet_pos(treebank_tag):\n",
    "\n",
    "    if treebank_tag[0]=='J':\n",
    "        return wordnet.ADJ\n",
    "    elif treebank_tag[0]=='V':\n",
    "        return wordnet.VERB   \n",
    "    elif treebank_tag[0]=='R':\n",
    "        return wordnet.ADV\n",
    "    else:\n",
    "        return wordnet.NOUN"
   ]
  },
  {
   "cell_type": "code",
   "execution_count": 7,
   "id": "59bd090d",
   "metadata": {},
   "outputs": [],
   "source": [
    "class LemmaTokenizer(object):\n",
    "    def __init__(self):\n",
    "        self.wnl = WNL()\n",
    "    def __call__(self, articles):\n",
    "        return [self.wnl.lemmatize(t,pos=get_wordnet_pos(nltk.pos_tag(list(t))[0][1])) for t in word_tokenize(articles) if (t not in string.punctuation+\"``\"+\"...\"+\"--\") and (t.isnumeric()==False) and (\"'\" not in t) and ((\".\" not in t))]"
   ]
  },
  {
   "cell_type": "code",
   "execution_count": 8,
   "id": "7b2993c6",
   "metadata": {},
   "outputs": [
    {
     "data": {
      "text/plain": [
       "47992    This is the Australian TV series. It is a clas...\n",
       "35174    SO good, the acting, cutting, directing in the...\n",
       "33327    (BIG SPOILERS) I've seen one other Takashi Mii...\n",
       "43270    Because of all the negative reviews of this fi...\n",
       "48592    Too bad Chuck Norris has gone to TV. He made s...\n",
       "                               ...                        \n",
       "5553     This could be looked at in many different ways...\n",
       "2046     then the second half of this movie is hard to ...\n",
       "21927    Cheesy 80's horror co-starring genre favs Ken ...\n",
       "3494     This gets a two because I liked it as a kid, b...\n",
       "3615     I missed it at the cinema and have rented it o...\n",
       "Name: Reviews, Length: 5000, dtype: object"
      ]
     },
     "execution_count": 8,
     "metadata": {},
     "output_type": "execute_result"
    }
   ],
   "source": [
    "x=t[\"Reviews\"]\n",
    "x"
   ]
  },
  {
   "cell_type": "code",
   "execution_count": 9,
   "id": "fd69cc78",
   "metadata": {},
   "outputs": [
    {
     "data": {
      "text/plain": [
       "47992    positive\n",
       "35174    positive\n",
       "33327    negative\n",
       "43270    positive\n",
       "48592    negative\n",
       "           ...   \n",
       "5553     negative\n",
       "2046     negative\n",
       "21927    negative\n",
       "3494     negative\n",
       "3615     positive\n",
       "Name: Sentiments, Length: 5000, dtype: object"
      ]
     },
     "execution_count": 9,
     "metadata": {},
     "output_type": "execute_result"
    }
   ],
   "source": [
    "y=t[\"Sentiments\"]\n",
    "y"
   ]
  },
  {
   "cell_type": "code",
   "execution_count": 10,
   "id": "b7a6ef05",
   "metadata": {},
   "outputs": [],
   "source": [
    "xta,xte,yta,yte=TTS(x,y,random_state=2,test_size=0.2)"
   ]
  },
  {
   "cell_type": "code",
   "execution_count": 11,
   "id": "3ffa5bcf",
   "metadata": {},
   "outputs": [],
   "source": [
    "ct=PP(\n",
    "[\n",
    "    (\"CVE\",CVE(strip_accents=\"ascii\",min_df=2,stop_words=\"english\",tokenizer=LemmaTokenizer())),\n",
    "])"
   ]
  },
  {
   "cell_type": "code",
   "execution_count": 12,
   "id": "77fd2181",
   "metadata": {},
   "outputs": [],
   "source": [
    "bc=BC(estimator=MNB(),n_jobs=-1,n_estimators=1000,oob_score=True)"
   ]
  },
  {
   "cell_type": "code",
   "execution_count": 13,
   "id": "8f91aab1",
   "metadata": {},
   "outputs": [
    {
     "name": "stderr",
     "output_type": "stream",
     "text": [
      "C:\\Users\\AryanBr0\\anaconda3\\lib\\site-packages\\sklearn\\feature_extraction\\text.py:528: UserWarning: The parameter 'token_pattern' will not be used since 'tokenizer' is not None'\n",
      "  warnings.warn(\n",
      "C:\\Users\\AryanBr0\\anaconda3\\lib\\site-packages\\sklearn\\feature_extraction\\text.py:409: UserWarning: Your stop_words may be inconsistent with your preprocessing. Tokenizing the stop words generated tokens ['le', 'make'] not in stop_words.\n",
      "  warnings.warn(\n"
     ]
    },
    {
     "data": {
      "text/plain": [
       "0.846"
      ]
     },
     "execution_count": 13,
     "metadata": {},
     "output_type": "execute_result"
    }
   ],
   "source": [
    "pp2=PP(\n",
    "[\n",
    "    (\"CVE\",ct),\n",
    "    (\"BC\",GSCV(bc,param_grid={},cv=5,scoring=\"accuracy\",n_jobs=-1))\n",
    "])\n",
    "pp2.fit(xta,yta)\n",
    "AS(yte,pp2.predict(xte))"
   ]
  },
  {
   "cell_type": "code",
   "execution_count": 14,
   "id": "b223cead",
   "metadata": {},
   "outputs": [
    {
     "data": {
      "text/plain": [
       "0.82675"
      ]
     },
     "execution_count": 14,
     "metadata": {},
     "output_type": "execute_result"
    }
   ],
   "source": [
    "pp2.named_steps[\"BC\"].best_score_"
   ]
  },
  {
   "cell_type": "code",
   "execution_count": 15,
   "id": "612eec79",
   "metadata": {},
   "outputs": [
    {
     "name": "stdout",
     "output_type": "stream",
     "text": [
      "Running on local URL:  http://127.0.0.1:7860\n",
      "\n",
      "To create a public link, set `share=True` in `launch()`.\n"
     ]
    },
    {
     "data": {
      "text/html": [
       "<div><iframe src=\"http://127.0.0.1:7860/\" width=\"100%\" height=\"500\" allow=\"autoplay; camera; microphone; clipboard-read; clipboard-write;\" frameborder=\"0\" allowfullscreen></iframe></div>"
      ],
      "text/plain": [
       "<IPython.core.display.HTML object>"
      ]
     },
     "metadata": {},
     "output_type": "display_data"
    }
   ],
   "source": [
    "def greet(Sentiment):\n",
    "    if pp2.predict([Sentiment])[0]==1:\n",
    "        return \"Happy\"\n",
    "    else:\n",
    "        return \"Not Happy\"\n",
    "grr=gr.Interface(fn=greet,inputs=\"text\",outputs=\"text\")\n",
    "grr.launch();"
   ]
  }
 ],
 "metadata": {
  "kernelspec": {
   "display_name": "Python 3 (ipykernel)",
   "language": "python",
   "name": "python3"
  },
  "language_info": {
   "codemirror_mode": {
    "name": "ipython",
    "version": 3
   },
   "file_extension": ".py",
   "mimetype": "text/x-python",
   "name": "python",
   "nbconvert_exporter": "python",
   "pygments_lexer": "ipython3",
   "version": "3.10.9"
  }
 },
 "nbformat": 4,
 "nbformat_minor": 5
}
